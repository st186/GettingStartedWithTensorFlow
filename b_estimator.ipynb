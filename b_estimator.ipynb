{
 "cells": [
  {
   "cell_type": "markdown",
   "metadata": {
    "deletable": true,
    "editable": true
   },
   "source": [
    "<h1>2b. Machine Learning using tf.estimator </h1>\n",
    "\n",
    "In this notebook, we will create a machine learning model using tf.estimator and evaluate its performance.  The dataset is rather small (7700 samples), so we can do it all in-memory.  We will also simply pass the raw data in as-is. "
   ]
  },
  {
   "cell_type": "code",
   "execution_count": 1,
   "metadata": {
    "collapsed": false,
    "deletable": true,
    "editable": true
   },
   "outputs": [
    {
     "name": "stdout",
     "output_type": "stream",
     "text": [
      "1.8.0\n"
     ]
    },
    {
     "name": "stderr",
     "output_type": "stream",
     "text": [
      "/usr/local/envs/py2env/lib/python2.7/site-packages/h5py/__init__.py:36: FutureWarning: Conversion of the second argument of issubdtype from `float` to `np.floating` is deprecated. In future, it will be treated as `np.float64 == np.dtype(float).type`.\n",
      "  from ._conv import register_converters as _register_converters\n"
     ]
    }
   ],
   "source": [
    "import datalab.bigquery as bq\n",
    "import tensorflow as tf\n",
    "import pandas as pd\n",
    "import numpy as np\n",
    "import shutil\n",
    "\n",
    "print(tf.__version__)"
   ]
  },
  {
   "cell_type": "markdown",
   "metadata": {
    "deletable": true,
    "editable": true
   },
   "source": [
    "Read data created in the previous chapter."
   ]
  },
  {
   "cell_type": "code",
   "execution_count": 2,
   "metadata": {
    "collapsed": true,
    "deletable": true,
    "editable": true
   },
   "outputs": [],
   "source": [
    "# In CSV, label is the first column, after the features, followed by the key\n",
    "CSV_COLUMNS = ['fare_amount', 'pickuplon','pickuplat','dropofflon','dropofflat','passengers', 'key']\n",
    "FEATURES = CSV_COLUMNS[1:len(CSV_COLUMNS) - 1]\n",
    "LABEL = CSV_COLUMNS[0]\n",
    "\n",
    "df_train = pd.read_csv('./taxi-train.csv', header = None, names = CSV_COLUMNS)\n",
    "df_valid = pd.read_csv('./taxi-valid.csv', header = None, names = CSV_COLUMNS)"
   ]
  },
  {
   "cell_type": "markdown",
   "metadata": {
    "deletable": true,
    "editable": true
   },
   "source": [
    "<h2> Input functions to read from Pandas Dataframe </h2>"
   ]
  },
  {
   "cell_type": "code",
   "execution_count": 3,
   "metadata": {
    "collapsed": false,
    "deletable": true,
    "editable": true
   },
   "outputs": [],
   "source": [
    "def make_input_fn(df, num_epochs):\n",
    "  return tf.estimator.inputs.pandas_input_fn(\n",
    "    x = df,\n",
    "    y = df[LABEL],\n",
    "    batch_size = 128,\n",
    "    num_epochs = num_epochs,\n",
    "    shuffle = True,\n",
    "    queue_capacity = 1000,\n",
    "    num_threads = 1\n",
    "  )"
   ]
  },
  {
   "cell_type": "markdown",
   "metadata": {
    "deletable": true,
    "editable": true
   },
   "source": [
    "Our input function for predictions is the same except we don't provide a label"
   ]
  },
  {
   "cell_type": "code",
   "execution_count": 4,
   "metadata": {
    "collapsed": true,
    "deletable": true,
    "editable": true
   },
   "outputs": [],
   "source": [
    "def make_prediction_input_fn(df, num_epochs):\n",
    "  return tf.estimator.inputs.pandas_input_fn(\n",
    "    x = df,\n",
    "    y = None,\n",
    "    batch_size = 128,\n",
    "    num_epochs = num_epochs,\n",
    "    shuffle = True,\n",
    "    queue_capacity = 1000,\n",
    "    num_threads = 1\n",
    "  )"
   ]
  },
  {
   "cell_type": "markdown",
   "metadata": {
    "deletable": true,
    "editable": true
   },
   "source": [
    "### Create feature columns for estimator"
   ]
  },
  {
   "cell_type": "code",
   "execution_count": 5,
   "metadata": {
    "collapsed": true,
    "deletable": true,
    "editable": true
   },
   "outputs": [],
   "source": [
    "def make_feature_cols():\n",
    "  input_columns = [tf.feature_column.numeric_column(k) for k in FEATURES]\n",
    "  return input_columns"
   ]
  },
  {
   "cell_type": "markdown",
   "metadata": {
    "deletable": true,
    "editable": true
   },
   "source": [
    "<h3> Linear Regression with tf.Estimator framework </h3>"
   ]
  },
  {
   "cell_type": "code",
   "execution_count": 6,
   "metadata": {
    "collapsed": false,
    "deletable": true,
    "editable": true
   },
   "outputs": [
    {
     "name": "stdout",
     "output_type": "stream",
     "text": [
      "INFO:tensorflow:Using default config.\n",
      "INFO:tensorflow:Using config: {'_save_checkpoints_secs': 600, '_session_config': None, '_keep_checkpoint_max': 5, '_task_type': 'worker', '_train_distribute': None, '_is_chief': True, '_cluster_spec': <tensorflow.python.training.server_lib.ClusterSpec object at 0x7f3606537110>, '_evaluation_master': '', '_save_checkpoints_steps': None, '_keep_checkpoint_every_n_hours': 10000, '_service': None, '_num_ps_replicas': 0, '_tf_random_seed': None, '_master': '', '_num_worker_replicas': 1, '_task_id': 0, '_log_step_count_steps': 100, '_model_dir': 'taxi_trained', '_global_id_in_cluster': 0, '_save_summary_steps': 100}\n",
      "INFO:tensorflow:Calling model_fn.\n",
      "INFO:tensorflow:Done calling model_fn.\n",
      "INFO:tensorflow:Create CheckpointSaverHook.\n",
      "INFO:tensorflow:Graph was finalized.\n",
      "INFO:tensorflow:Running local_init_op.\n",
      "INFO:tensorflow:Done running local_init_op.\n",
      "INFO:tensorflow:Saving checkpoints for 1 into taxi_trained/model.ckpt.\n",
      "INFO:tensorflow:loss = 26396.277, step = 1\n",
      "INFO:tensorflow:global_step/sec: 265.387\n",
      "INFO:tensorflow:loss = 9032.492, step = 101 (0.380 sec)\n",
      "INFO:tensorflow:global_step/sec: 360.828\n",
      "INFO:tensorflow:loss = 11362.965, step = 201 (0.277 sec)\n",
      "INFO:tensorflow:global_step/sec: 332.983\n",
      "INFO:tensorflow:loss = 14604.701, step = 301 (0.301 sec)\n",
      "INFO:tensorflow:global_step/sec: 330.268\n",
      "INFO:tensorflow:loss = 13654.679, step = 401 (0.303 sec)\n",
      "INFO:tensorflow:global_step/sec: 338.443\n",
      "INFO:tensorflow:loss = 7646.953, step = 501 (0.295 sec)\n",
      "INFO:tensorflow:global_step/sec: 367.461\n",
      "INFO:tensorflow:loss = 12450.417, step = 601 (0.272 sec)\n",
      "INFO:tensorflow:Saving checkpoints for 608 into taxi_trained/model.ckpt.\n",
      "INFO:tensorflow:Loss for final step: 88.10799.\n"
     ]
    },
    {
     "data": {
      "text/plain": [
       "<tensorflow.python.estimator.canned.linear.LinearRegressor at 0x7f35d7314510>"
      ]
     },
     "execution_count": 6,
     "metadata": {},
     "output_type": "execute_result"
    }
   ],
   "source": [
    "tf.logging.set_verbosity(tf.logging.INFO)\n",
    "\n",
    "OUTDIR = 'taxi_trained'\n",
    "shutil.rmtree(OUTDIR, ignore_errors = True) # start fresh each time\n",
    "\n",
    "model = tf.estimator.LinearRegressor(\n",
    "      feature_columns = make_feature_cols(), model_dir = OUTDIR)\n",
    "\n",
    "model.train(input_fn = make_input_fn(df_train, num_epochs = 10))"
   ]
  },
  {
   "cell_type": "markdown",
   "metadata": {
    "deletable": true,
    "editable": true
   },
   "source": [
    "Evaluate on the validation data (we should defer using the test data to after we have selected a final model)."
   ]
  },
  {
   "cell_type": "code",
   "execution_count": 7,
   "metadata": {
    "collapsed": false,
    "deletable": true,
    "editable": true
   },
   "outputs": [
    {
     "name": "stdout",
     "output_type": "stream",
     "text": [
      "INFO:tensorflow:Calling model_fn.\n",
      "INFO:tensorflow:Done calling model_fn.\n",
      "INFO:tensorflow:Starting evaluation at 2018-07-30-16:43:04\n",
      "INFO:tensorflow:Graph was finalized.\n",
      "INFO:tensorflow:Restoring parameters from taxi_trained/model.ckpt-608\n",
      "INFO:tensorflow:Running local_init_op.\n",
      "INFO:tensorflow:Done running local_init_op.\n",
      "INFO:tensorflow:Finished evaluation at 2018-07-30-16:43:04\n",
      "INFO:tensorflow:Saving dict for global step 608: average_loss = 111.49072, global_step = 608, loss = 13259.432\n",
      "RMSE on validation dataset = 10.5589170456\n"
     ]
    }
   ],
   "source": [
    "def print_rmse(model, name, df):\n",
    "  metrics = model.evaluate(input_fn = make_input_fn(df, 1))\n",
    "  print('RMSE on {} dataset = {}'.format(name, np.sqrt(metrics['average_loss'])))\n",
    "print_rmse(model, 'validation', df_valid)"
   ]
  },
  {
   "cell_type": "markdown",
   "metadata": {
    "deletable": true,
    "editable": true
   },
   "source": [
    "This is nowhere near our benchmark (RMSE of $6 or so on this data), but it serves to demonstrate what TensorFlow code looks like.  Let's use this model for prediction."
   ]
  },
  {
   "cell_type": "code",
   "execution_count": 8,
   "metadata": {
    "collapsed": false,
    "deletable": true,
    "editable": true
   },
   "outputs": [
    {
     "name": "stdout",
     "output_type": "stream",
     "text": [
      "INFO:tensorflow:Calling model_fn.\n",
      "INFO:tensorflow:Done calling model_fn.\n",
      "INFO:tensorflow:Graph was finalized.\n",
      "INFO:tensorflow:Restoring parameters from taxi_trained/model.ckpt-608\n",
      "INFO:tensorflow:Running local_init_op.\n",
      "INFO:tensorflow:Done running local_init_op.\n",
      "{'predictions': array([10.00112], dtype=float32)}\n",
      "{'predictions': array([10.001088], dtype=float32)}\n",
      "{'predictions': array([10.000489], dtype=float32)}\n",
      "{'predictions': array([10.001057], dtype=float32)}\n",
      "{'predictions': array([10.039942], dtype=float32)}\n"
     ]
    }
   ],
   "source": [
    "predictions = model.predict(input_fn = make_prediction_input_fn(df_valid, 1))\n",
    "for i in xrange(5):\n",
    "  print(predictions.next())"
   ]
  },
  {
   "cell_type": "markdown",
   "metadata": {
    "deletable": true,
    "editable": true
   },
   "source": [
    "This explains why the RMSE was so high -- the model essentially predicts the same amount for every trip.  Would a more complex model help? Let's try using a deep neural network.  The code to do this is quite straightforward as well."
   ]
  },
  {
   "cell_type": "markdown",
   "metadata": {
    "deletable": true,
    "editable": true
   },
   "source": [
    "<h3> Deep Neural Network regression </h3>"
   ]
  },
  {
   "cell_type": "code",
   "execution_count": 9,
   "metadata": {
    "collapsed": false,
    "deletable": true,
    "editable": true
   },
   "outputs": [
    {
     "name": "stdout",
     "output_type": "stream",
     "text": [
      "INFO:tensorflow:Using default config.\n",
      "INFO:tensorflow:Using config: {'_save_checkpoints_secs': 600, '_session_config': None, '_keep_checkpoint_max': 5, '_task_type': 'worker', '_train_distribute': None, '_is_chief': True, '_cluster_spec': <tensorflow.python.training.server_lib.ClusterSpec object at 0x7f35c52c8050>, '_evaluation_master': '', '_save_checkpoints_steps': None, '_keep_checkpoint_every_n_hours': 10000, '_service': None, '_num_ps_replicas': 0, '_tf_random_seed': None, '_master': '', '_num_worker_replicas': 1, '_task_id': 0, '_log_step_count_steps': 100, '_model_dir': 'taxi_trained', '_global_id_in_cluster': 0, '_save_summary_steps': 100}\n",
      "INFO:tensorflow:Calling model_fn.\n",
      "INFO:tensorflow:Done calling model_fn.\n",
      "INFO:tensorflow:Create CheckpointSaverHook.\n",
      "INFO:tensorflow:Graph was finalized.\n",
      "INFO:tensorflow:Running local_init_op.\n",
      "INFO:tensorflow:Done running local_init_op.\n",
      "INFO:tensorflow:Saving checkpoints for 1 into taxi_trained/model.ckpt.\n",
      "INFO:tensorflow:loss = 12236.627, step = 1\n",
      "INFO:tensorflow:global_step/sec: 253.964\n",
      "INFO:tensorflow:loss = 16097.582, step = 101 (0.398 sec)\n",
      "INFO:tensorflow:global_step/sec: 327.747\n",
      "INFO:tensorflow:loss = 10720.58, step = 201 (0.303 sec)\n",
      "INFO:tensorflow:global_step/sec: 274.348\n",
      "INFO:tensorflow:loss = 10452.572, step = 301 (0.365 sec)\n",
      "INFO:tensorflow:global_step/sec: 280.253\n",
      "INFO:tensorflow:loss = 11970.96, step = 401 (0.357 sec)\n",
      "INFO:tensorflow:global_step/sec: 313.131\n",
      "INFO:tensorflow:loss = 11020.617, step = 501 (0.320 sec)\n",
      "INFO:tensorflow:global_step/sec: 280.828\n",
      "INFO:tensorflow:loss = 10982.486, step = 601 (0.355 sec)\n",
      "INFO:tensorflow:global_step/sec: 304.244\n",
      "INFO:tensorflow:loss = 13479.307, step = 701 (0.329 sec)\n",
      "INFO:tensorflow:global_step/sec: 321.968\n",
      "INFO:tensorflow:loss = 11165.504, step = 801 (0.311 sec)\n",
      "INFO:tensorflow:global_step/sec: 293.252\n",
      "INFO:tensorflow:loss = 13395.325, step = 901 (0.341 sec)\n",
      "INFO:tensorflow:global_step/sec: 284.127\n",
      "INFO:tensorflow:loss = 16535.742, step = 1001 (0.352 sec)\n",
      "INFO:tensorflow:global_step/sec: 297.592\n",
      "INFO:tensorflow:loss = 14059.969, step = 1101 (0.336 sec)\n",
      "INFO:tensorflow:global_step/sec: 254.667\n",
      "INFO:tensorflow:loss = 4946.6997, step = 1201 (0.395 sec)\n",
      "INFO:tensorflow:global_step/sec: 312.673\n",
      "INFO:tensorflow:loss = 10870.049, step = 1301 (0.317 sec)\n",
      "INFO:tensorflow:global_step/sec: 344.46\n",
      "INFO:tensorflow:loss = 8880.932, step = 1401 (0.290 sec)\n",
      "INFO:tensorflow:global_step/sec: 254.747\n",
      "INFO:tensorflow:loss = 12997.64, step = 1501 (0.398 sec)\n",
      "INFO:tensorflow:global_step/sec: 302.034\n",
      "INFO:tensorflow:loss = 14144.644, step = 1601 (0.325 sec)\n",
      "INFO:tensorflow:global_step/sec: 347.496\n",
      "INFO:tensorflow:loss = 13405.495, step = 1701 (0.288 sec)\n",
      "INFO:tensorflow:global_step/sec: 310.41\n",
      "INFO:tensorflow:loss = 18927.379, step = 1801 (0.335 sec)\n",
      "INFO:tensorflow:global_step/sec: 289.965\n",
      "INFO:tensorflow:loss = 14378.847, step = 1901 (0.332 sec)\n",
      "INFO:tensorflow:global_step/sec: 337.026\n",
      "INFO:tensorflow:loss = 6214.373, step = 2001 (0.297 sec)\n",
      "INFO:tensorflow:global_step/sec: 283.652\n",
      "INFO:tensorflow:loss = 14609.246, step = 2101 (0.352 sec)\n",
      "INFO:tensorflow:global_step/sec: 276.736\n",
      "INFO:tensorflow:loss = 11441.176, step = 2201 (0.361 sec)\n",
      "INFO:tensorflow:global_step/sec: 307.081\n",
      "INFO:tensorflow:loss = 16163.953, step = 2301 (0.326 sec)\n",
      "INFO:tensorflow:global_step/sec: 271.606\n",
      "INFO:tensorflow:loss = 10765.186, step = 2401 (0.368 sec)\n",
      "INFO:tensorflow:global_step/sec: 307.706\n",
      "INFO:tensorflow:loss = 12894.983, step = 2501 (0.325 sec)\n",
      "INFO:tensorflow:global_step/sec: 312.333\n",
      "INFO:tensorflow:loss = 8577.877, step = 2601 (0.320 sec)\n",
      "INFO:tensorflow:global_step/sec: 251.338\n",
      "INFO:tensorflow:loss = 14552.477, step = 2701 (0.398 sec)\n",
      "INFO:tensorflow:global_step/sec: 308.098\n",
      "INFO:tensorflow:loss = 10730.838, step = 2801 (0.324 sec)\n",
      "INFO:tensorflow:global_step/sec: 317.283\n",
      "INFO:tensorflow:loss = 5693.304, step = 2901 (0.316 sec)\n",
      "INFO:tensorflow:global_step/sec: 250.62\n",
      "INFO:tensorflow:loss = 12834.761, step = 3001 (0.398 sec)\n",
      "INFO:tensorflow:global_step/sec: 317.111\n",
      "INFO:tensorflow:loss = 7290.5483, step = 3101 (0.315 sec)\n",
      "INFO:tensorflow:global_step/sec: 314.183\n",
      "INFO:tensorflow:loss = 8547.729, step = 3201 (0.320 sec)\n",
      "INFO:tensorflow:global_step/sec: 254.394\n",
      "INFO:tensorflow:loss = 11091.313, step = 3301 (0.392 sec)\n",
      "INFO:tensorflow:global_step/sec: 327.1\n",
      "INFO:tensorflow:loss = 13752.424, step = 3401 (0.306 sec)\n",
      "INFO:tensorflow:global_step/sec: 322.001\n",
      "INFO:tensorflow:loss = 10736.402, step = 3501 (0.310 sec)\n",
      "INFO:tensorflow:global_step/sec: 275.204\n",
      "INFO:tensorflow:loss = 6884.007, step = 3601 (0.364 sec)\n",
      "INFO:tensorflow:global_step/sec: 334.536\n",
      "INFO:tensorflow:loss = 6500.4346, step = 3701 (0.299 sec)\n",
      "INFO:tensorflow:global_step/sec: 324.952\n",
      "INFO:tensorflow:loss = 14444.863, step = 3801 (0.307 sec)\n",
      "INFO:tensorflow:global_step/sec: 275.354\n",
      "INFO:tensorflow:loss = 10041.529, step = 3901 (0.363 sec)\n",
      "INFO:tensorflow:global_step/sec: 323.254\n",
      "INFO:tensorflow:loss = 11382.916, step = 4001 (0.309 sec)\n",
      "INFO:tensorflow:global_step/sec: 317.969\n",
      "INFO:tensorflow:loss = 10225.197, step = 4101 (0.314 sec)\n",
      "INFO:tensorflow:global_step/sec: 277.104\n",
      "INFO:tensorflow:loss = 6862.2305, step = 4201 (0.361 sec)\n",
      "INFO:tensorflow:global_step/sec: 327.971\n",
      "INFO:tensorflow:loss = 14379.451, step = 4301 (0.305 sec)\n",
      "INFO:tensorflow:global_step/sec: 325.01\n",
      "INFO:tensorflow:loss = 6929.07, step = 4401 (0.308 sec)\n",
      "INFO:tensorflow:global_step/sec: 267.863\n",
      "INFO:tensorflow:loss = 7806.314, step = 4501 (0.373 sec)\n",
      "INFO:tensorflow:global_step/sec: 317.993\n",
      "INFO:tensorflow:loss = 11900.844, step = 4601 (0.314 sec)\n",
      "INFO:tensorflow:global_step/sec: 328.524\n",
      "INFO:tensorflow:loss = 13833.398, step = 4701 (0.305 sec)\n",
      "INFO:tensorflow:global_step/sec: 277.841\n",
      "INFO:tensorflow:loss = 9336.6, step = 4801 (0.360 sec)\n",
      "INFO:tensorflow:global_step/sec: 307.796\n",
      "INFO:tensorflow:loss = 13595.787, step = 4901 (0.326 sec)\n",
      "INFO:tensorflow:global_step/sec: 310.261\n",
      "INFO:tensorflow:loss = 10888.522, step = 5001 (0.321 sec)\n",
      "INFO:tensorflow:global_step/sec: 228.705\n",
      "INFO:tensorflow:loss = 14239.942, step = 5101 (0.439 sec)\n",
      "INFO:tensorflow:global_step/sec: 233.098\n",
      "INFO:tensorflow:loss = 8432.228, step = 5201 (0.428 sec)\n",
      "INFO:tensorflow:global_step/sec: 239.376\n",
      "INFO:tensorflow:loss = 11441.729, step = 5301 (0.418 sec)\n",
      "INFO:tensorflow:global_step/sec: 196.853\n",
      "INFO:tensorflow:loss = 13290.475, step = 5401 (0.508 sec)\n",
      "INFO:tensorflow:global_step/sec: 247.844\n",
      "INFO:tensorflow:loss = 12421.831, step = 5501 (0.402 sec)\n",
      "INFO:tensorflow:global_step/sec: 271.588\n",
      "INFO:tensorflow:loss = 10838.645, step = 5601 (0.369 sec)\n",
      "INFO:tensorflow:global_step/sec: 321.399\n",
      "INFO:tensorflow:loss = 13555.387, step = 5701 (0.316 sec)\n",
      "INFO:tensorflow:global_step/sec: 284.283\n",
      "INFO:tensorflow:loss = 9569.729, step = 5801 (0.347 sec)\n",
      "INFO:tensorflow:global_step/sec: 278.655\n",
      "INFO:tensorflow:loss = 10081.527, step = 5901 (0.359 sec)\n",
      "INFO:tensorflow:global_step/sec: 334.999\n",
      "INFO:tensorflow:loss = 8710.065, step = 6001 (0.299 sec)\n",
      "INFO:tensorflow:Saving checkpoints for 6071 into taxi_trained/model.ckpt.\n",
      "INFO:tensorflow:Loss for final step: 4634.6865.\n",
      "INFO:tensorflow:Calling model_fn.\n",
      "INFO:tensorflow:Done calling model_fn.\n",
      "INFO:tensorflow:Starting evaluation at 2018-07-30-16:47:12\n",
      "INFO:tensorflow:Graph was finalized.\n",
      "INFO:tensorflow:Restoring parameters from taxi_trained/model.ckpt-6071\n",
      "INFO:tensorflow:Running local_init_op.\n",
      "INFO:tensorflow:Done running local_init_op.\n",
      "INFO:tensorflow:Finished evaluation at 2018-07-30-16:47:12\n",
      "INFO:tensorflow:Saving dict for global step 6071: average_loss = 109.44154, global_step = 6071, loss = 13015.727\n",
      "RMSE on validation dataset = 10.4614315033\n"
     ]
    }
   ],
   "source": [
    "tf.logging.set_verbosity(tf.logging.INFO)\n",
    "shutil.rmtree(OUTDIR, ignore_errors = True) # start fresh each time\n",
    "model = tf.estimator.DNNRegressor(hidden_units = [32, 8, 2],\n",
    "      feature_columns = make_feature_cols(), model_dir = OUTDIR)\n",
    "model.train(input_fn = make_input_fn(df_train, num_epochs = 100));\n",
    "print_rmse(model, 'validation', df_valid)"
   ]
  },
  {
   "cell_type": "markdown",
   "metadata": {
    "deletable": true,
    "editable": true
   },
   "source": [
    "We are not beating our benchmark with either model ... what's up?  Well, we may be using TensorFlow for Machine Learning, but we are not yet using it well.  That's what the rest of this course is about!\n",
    "\n",
    "But, for the record, let's say we had to choose between the two models. We'd choose the one with the lower validation error. Finally, we'd measure the RMSE on the test data with this chosen model."
   ]
  },
  {
   "cell_type": "markdown",
   "metadata": {
    "deletable": true,
    "editable": true
   },
   "source": [
    "<h2> Benchmark dataset </h2>\n",
    "\n",
    "Let's do this on the benchmark dataset."
   ]
  },
  {
   "cell_type": "code",
   "execution_count": null,
   "metadata": {
    "collapsed": false,
    "deletable": true,
    "editable": true
   },
   "outputs": [],
   "source": [
    "import datalab.bigquery as bq\n",
    "import numpy as np\n",
    "import pandas as pd\n",
    "\n",
    "\n",
    "def create_query(phase, EVERY_N):\n",
    "  \"\"\"\n",
    "  phase: 1 = train 2 = valid\n",
    "  \"\"\"\n",
    "  base_query = \"\"\"\n",
    "SELECT\n",
    "  (tolls_amount + fare_amount) AS fare_amount,\n",
    "  CONCAT(STRING(pickup_datetime), STRING(pickup_longitude), STRING(pickup_latitude), STRING(dropoff_latitude), STRING(dropoff_longitude)) AS key,\n",
    "  DAYOFWEEK(pickup_datetime)*1.0 AS dayofweek,\n",
    "  HOUR(pickup_datetime)*1.0 AS hourofday,\n",
    "  pickup_longitude AS pickuplon,\n",
    "  pickup_latitude AS pickuplat,\n",
    "  dropoff_longitude AS dropofflon,\n",
    "  dropoff_latitude AS dropofflat,\n",
    "  passenger_count*1.0 AS passengers,\n",
    "FROM\n",
    "  [nyc-tlc:yellow.trips]\n",
    "WHERE\n",
    "  trip_distance > 0\n",
    "  AND fare_amount >= 2.5\n",
    "  AND pickup_longitude > -78\n",
    "  AND pickup_longitude < -70\n",
    "  AND dropoff_longitude > -78\n",
    "  AND dropoff_longitude < -70\n",
    "  AND pickup_latitude > 37\n",
    "  AND pickup_latitude < 45\n",
    "  AND dropoff_latitude > 37\n",
    "  AND dropoff_latitude < 45\n",
    "  AND passenger_count > 0\n",
    "  \"\"\"\n",
    "\n",
    "  if EVERY_N == None:\n",
    "    if phase < 2:\n",
    "      # Training\n",
    "      query = \"{0} AND ABS(HASH(pickup_datetime)) % 4 < 2\".format(base_query)\n",
    "    else:\n",
    "      # Validation\n",
    "      query = \"{0} AND ABS(HASH(pickup_datetime)) % 4 == {1}\".format(base_query, phase)\n",
    "  else:\n",
    "    query = \"{0} AND ABS(HASH(pickup_datetime)) % {1} == {2}\".format(base_query, EVERY_N, phase)\n",
    "    \n",
    "  return query\n",
    "\n",
    "query = create_query(2, 100000)\n",
    "df = bq.Query(query).to_dataframe()"
   ]
  },
  {
   "cell_type": "code",
   "execution_count": null,
   "metadata": {
    "collapsed": false,
    "deletable": true,
    "editable": true
   },
   "outputs": [],
   "source": [
    "print_rmse(model, 'benchmark', df)"
   ]
  },
  {
   "cell_type": "markdown",
   "metadata": {
    "deletable": true,
    "editable": true
   },
   "source": [
    "RMSE on benchmark dataset is <b>9.41</b> (your results will vary because of random seeds).\n",
    "\n",
    "This is not only way more than our original benchmark of 6.00, but it doesn't even beat our distance-based rule's RMSE of 8.02.\n",
    "\n",
    "Fear not -- you have learned how to write a TensorFlow model, but not to do all the things that you will have to do to your ML model performant. We will do this in the next chapters. In this chapter though, we will get our TensorFlow model ready for these improvements.\n",
    "\n",
    "In a software sense, the rest of the labs in this chapter will be about refactoring the code so that we can improve it."
   ]
  },
  {
   "cell_type": "markdown",
   "metadata": {
    "deletable": true,
    "editable": true
   },
   "source": [
    "## Challenge Exercise\n",
    "\n",
    "Create a neural network that is capable of finding the volume of a cylinder given the radius of its base (r) and its height (h). Assume that the radius and height of the cylinder are both in the range 0.5 to 2.0. Simulate the necessary training dataset.\n",
    "<p>\n",
    "Hint (highlight to see):\n",
    "<p style='color:white'>\n",
    "The input features will be r and h and the label will be $\\pi r^2 h$\n",
    "Create random values for r and h and compute V.\n",
    "Your dataset will consist of r, h and V.\n",
    "Then, use a DNN regressor.\n",
    "Make sure to generate enough data.\n",
    "</p>"
   ]
  },
  {
   "cell_type": "markdown",
   "metadata": {
    "deletable": true,
    "editable": true
   },
   "source": [
    "Copyright 2017 Google Inc. Licensed under the Apache License, Version 2.0 (the \"License\"); you may not use this file except in compliance with the License. You may obtain a copy of the License at http://www.apache.org/licenses/LICENSE-2.0 Unless required by applicable law or agreed to in writing, software distributed under the License is distributed on an \"AS IS\" BASIS, WITHOUT WARRANTIES OR CONDITIONS OF ANY KIND, either express or implied. See the License for the specific language governing permissions and limitations under the License"
   ]
  }
 ],
 "metadata": {
  "kernelspec": {
   "display_name": "Python 2",
   "language": "python",
   "name": "python2"
  },
  "language_info": {
   "codemirror_mode": {
    "name": "ipython",
    "version": 2
   },
   "file_extension": ".py",
   "mimetype": "text/x-python",
   "name": "python",
   "nbconvert_exporter": "python",
   "pygments_lexer": "ipython2",
   "version": "2.7.15"
  }
 },
 "nbformat": 4,
 "nbformat_minor": 0
}
